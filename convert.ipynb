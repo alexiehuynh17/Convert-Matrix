{
 "cells": [
  {
   "cell_type": "code",
   "execution_count": 112,
   "metadata": {},
   "outputs": [],
   "source": [
    "import pandas as pd\n",
    "import numpy as np"
   ]
  },
  {
   "cell_type": "code",
   "execution_count": 180,
   "metadata": {},
   "outputs": [],
   "source": [
    "df = pd.read_csv('choCuong.csv')\n",
    "dfnp = df.to_numpy()"
   ]
  },
  {
   "cell_type": "code",
   "execution_count": 181,
   "metadata": {},
   "outputs": [],
   "source": [
    "matrix = []\n",
    "row = [dfnp[0]]\n",
    "rdx, idx = 0, 1\n",
    "while idx < len(dfnp):\n",
    "    if row[rdx][7] == dfnp[idx][7]:\n",
    "        row.append(dfnp[idx])\n",
    "        rdx += 1  \n",
    "    else:\n",
    "        matrix.append(row)\n",
    "        row = [dfnp[idx]]\n",
    "        rdx = 0\n",
    "    idx += 1\n",
    "    if idx == len(dfnp) - 1:\n",
    "        matrix.append(row)  \n",
    "for idx in range(len(matrix)):\n",
    "    matrix[idx] = [matrix[idx]]"
   ]
  },
  {
   "cell_type": "code",
   "execution_count": 182,
   "metadata": {},
   "outputs": [],
   "source": [
    "def get_min_nmatrix(rnmatrix):\n",
    "    list_nmatrix = [min(x, key=lambda df: df[1]) for x in rnmatrix]\n",
    "    resmin = list_nmatrix[0]\n",
    "    for kdx in range(1,len(list_nmatrix)):\n",
    "        if resmin[7] > list_nmatrix[kdx][7]:\n",
    "            resmin = list_nmatrix[kdx]\n",
    "    return resmin\n",
    "\n",
    "def get_max_nmatrix(rnmatrix):\n",
    "    list_nmatrix = [max(x, key=lambda df: df[3]) for x in rnmatrix]\n",
    "    resmax = list_nmatrix[0]\n",
    "    for kdx in range(1,len(list_nmatrix)):\n",
    "        if resmax[7] < list_nmatrix[kdx][7]:\n",
    "            resmax = list_nmatrix[kdx]\n",
    "    return resmax"
   ]
  },
  {
   "cell_type": "code",
   "execution_count": 183,
   "metadata": {},
   "outputs": [],
   "source": [
    "status = False\n",
    "while not status:\n",
    "    nmatrix = [matrix[0]]\n",
    "    idnmatrix = 0\n",
    "    status = True\n",
    "    for idx in range(1,len(matrix)):\n",
    "        rmin = get_min_nmatrix(nmatrix[idnmatrix])\n",
    "        rnmax = get_max_nmatrix(matrix[idx])\n",
    "\n",
    "        delta_r_rn = rmin[1] - rnmax[3]\n",
    "\n",
    "        if delta_r_rn > 10:\n",
    "            nmatrix.append(matrix[idx])\n",
    "            idnmatrix = idnmatrix + 1\n",
    "        else:\n",
    "            nmatrix[len(nmatrix)-1].append(matrix[idx][0])  \n",
    "            idnmatrix = len(nmatrix) - 1\n",
    "            status = False\n",
    "    matrix = nmatrix"
   ]
  },
  {
   "cell_type": "code",
   "execution_count": 186,
   "metadata": {},
   "outputs": [
    {
     "data": {
      "text/plain": [
       "[[array([131.99606323242188, 539.55517578125, 205.35971069335935,\n",
       "         644.4609375, 0.9057504534721376, 0, 'Lon Lager', 3], dtype=object),\n",
       "  array([195.8841094970703, 427.7530212402344, 267.38726806640625,\n",
       "         650.8338623046875, 0.910524845123291, 7, 'Chai Chill', 3],\n",
       "        dtype=object),\n",
       "  array([257.7524108886719, 450.2332153320313, 315.2636413574219,\n",
       "         647.6859741210938, 0.9050107598304749, 11, 'Chai Xa xi', 3],\n",
       "        dtype=object),\n",
       "  array([313.6437072753906, 437.48236083984375, 371.4527282714844,\n",
       "         650.6991577148438, 0.9301877021789552, 1, 'Chai Export', 3],\n",
       "        dtype=object),\n",
       "  array([369.7073669433594, 435.638916015625, 429.7226257324219,\n",
       "         654.1845703125, 0.9289765357971193, 1, 'Chai Export', 3],\n",
       "        dtype=object),\n",
       "  array([431.6911315917969, 435.4360961914063, 492.8844909667969,\n",
       "         654.3075561523438, 0.9423456788063048, 2, 'Chai Larger', 3],\n",
       "        dtype=object),\n",
       "  array([492.6997680664063, 455.4903564453125, 545.4440307617188,\n",
       "         652.103759765625, 0.928557276725769, 11, 'Chai Xa xi', 3],\n",
       "        dtype=object),\n",
       "  array([543.2236328125, 437.0625, 611.140869140625, 656.077392578125,\n",
       "         0.9176306128501892, 2, 'Chai Larger', 3], dtype=object),\n",
       "  array([610.6901245117188, 430.1306762695313, 676.1655883789062,\n",
       "         656.3810424804688, 0.9049901962280272, 7, 'Chai Chill', 3],\n",
       "        dtype=object),\n",
       "  array([695.001708984375, 425.4158020019531, 774.0623779296875,\n",
       "         661.9765625, 0.8699996471405029, 7, 'Chai Chill', 3], dtype=object)],\n",
       " [array([126.52015686035156, 428.8914184570313, 200.7019195556641,\n",
       "         542.0974731445312, 0.9070954918861388, 0, 'Lon Lager', 2],\n",
       "        dtype=object)]]"
      ]
     },
     "execution_count": 186,
     "metadata": {},
     "output_type": "execute_result"
    }
   ],
   "source": [
    "nmatrix[1]"
   ]
  },
  {
   "cell_type": "code",
   "execution_count": 178,
   "metadata": {},
   "outputs": [],
   "source": [
    "import copy \n",
    "final_matrix = []\n",
    "\n",
    "nnmatrix = copy.deepcopy(nmatrix)\n",
    "for idx in range(len(nnmatrix)):\n",
    "    submatrix = [[x[5] for x in nmatrix[idx][0]]]\n",
    "    lnmatrix0 = len(nnmatrix[idx][0])\n",
    "    for jdx in range(1,len(nnmatrix[idx])):\n",
    "        none_list = [None]*lnmatrix0\n",
    "        for kdx in range(len(nnmatrix[idx][jdx])):\n",
    "            center =  (nnmatrix[idx][jdx][kdx][0] + nnmatrix[idx][jdx][kdx][2])/2\n",
    "            r0dx = 0\n",
    "            while r0dx < lnmatrix0: \n",
    "                if center > nnmatrix[idx][0][r0dx][0] and center < nnmatrix[idx][0][r0dx][2]:\n",
    "                    none_list[r0dx] = nnmatrix[idx][jdx][kdx][5]\n",
    "                    break\n",
    "                r0dx = r0dx + 1\n",
    "        submatrix.append(none_list)\n",
    "    final_matrix.append(submatrix)\n",
    "        "
   ]
  },
  {
   "cell_type": "code",
   "execution_count": 179,
   "metadata": {},
   "outputs": [
    {
     "name": "stdout",
     "output_type": "stream",
     "text": [
      "Rack 1\n",
      "[0, 5, None, None, None, None, 9, None]\n",
      "[0, 5, 8, 8, 3, 3, 9, 4]\n",
      "Rack 2\n",
      "[0, None, None, None, None, None, None, None, None, None]\n",
      "[0, 7, 11, 1, 1, 2, 11, 2, 7, 7]\n",
      "Rack 3\n",
      "[6, 12, 12, 10, 10, 4, 4]\n"
     ]
    }
   ],
   "source": [
    "for idx in range(len(final_matrix)-1, -1, -1):\n",
    "    print(f'Rack {len(final_matrix)- idx}')\n",
    "    for jdx in range(len(final_matrix[idx])-1, -1, -1):\n",
    "        print(final_matrix[idx][jdx])"
   ]
  },
  {
   "cell_type": "code",
   "execution_count": null,
   "metadata": {},
   "outputs": [],
   "source": []
  }
 ],
 "metadata": {
  "kernelspec": {
   "display_name": "Python ('lab')",
   "language": "python",
   "name": "python3"
  },
  "language_info": {
   "codemirror_mode": {
    "name": "ipython",
    "version": 3
   },
   "file_extension": ".py",
   "mimetype": "text/x-python",
   "name": "python",
   "nbconvert_exporter": "python",
   "pygments_lexer": "ipython3",
   "version": "3.8.8"
  },
  "orig_nbformat": 4,
  "vscode": {
   "interpreter": {
    "hash": "25a19fbe0a9132dfb9279d48d161753c6352f8f9478c2e74383d340069b907c3"
   }
  }
 },
 "nbformat": 4,
 "nbformat_minor": 2
}
